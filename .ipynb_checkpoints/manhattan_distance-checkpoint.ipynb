{
 "cells": [
  {
   "cell_type": "code",
   "execution_count": 1,
   "id": "ecde9515",
   "metadata": {},
   "outputs": [
    {
     "name": "stdout",
     "output_type": "stream",
     "text": [
      "The Manhattan distance between x and y is: 17\n"
     ]
    }
   ],
   "source": [
    "def manhattan_distance(x, y):\n",
    "  \"\"\"\n",
    "  This function calculates the Manhattan distance between two objects.\n",
    "\n",
    "  Args:\n",
    "    x: A list of attributes for the first object.\n",
    "    y: A list of attributes for the second object.\n",
    "\n",
    "  Returns:\n",
    "    The Manhattan distance between the two objects.\n",
    "  \"\"\"\n",
    "\n",
    "  # Check if the objects have the same number of attributes\n",
    "  if len(x) != len(y):\n",
    "    raise ValueError(\"Objects must have the same number of attributes.\")\n",
    "\n",
    "  # Calculate the sum of absolute differences for each attribute\n",
    "  sum_of_absolute_differences = 0\n",
    "  for i in range(len(x)):\n",
    "    sum_of_absolute_differences += abs(x[i] - y[i])\n",
    "\n",
    "  # The Manhattan distance is the sum of absolute differences\n",
    "  return sum_of_absolute_differences\n",
    "\n",
    "# Example usage\n",
    "x = [0, 3, 4, 5]\n",
    "y = [7, 6, 3, -1]\n",
    "distance = manhattan_distance(x, y)\n",
    "print(f\"The Manhattan distance between x and y is: {distance}\")\n"
   ]
  },
  {
   "cell_type": "code",
   "execution_count": null,
   "id": "80e23078",
   "metadata": {},
   "outputs": [],
   "source": []
  }
 ],
 "metadata": {
  "kernelspec": {
   "display_name": "Python 3 (ipykernel)",
   "language": "python",
   "name": "python3"
  },
  "language_info": {
   "codemirror_mode": {
    "name": "ipython",
    "version": 3
   },
   "file_extension": ".py",
   "mimetype": "text/x-python",
   "name": "python",
   "nbconvert_exporter": "python",
   "pygments_lexer": "ipython3",
   "version": "3.11.4"
  }
 },
 "nbformat": 4,
 "nbformat_minor": 5
}
