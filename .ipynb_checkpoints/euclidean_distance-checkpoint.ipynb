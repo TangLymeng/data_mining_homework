{
 "cells": [
  {
   "cell_type": "code",
   "execution_count": null,
   "id": "067049e3",
   "metadata": {},
   "outputs": [],
   "source": [
    "import math\n",
    "\n",
    "def euclidean_distance(x, y):\n",
    "  \"\"\"\n",
    "  This function calculates the Euclidean distance between two objects.\n",
    "\n",
    "  Args:\n",
    "    x: A list of attributes for the first object.\n",
    "    y: A list of attributes for the second object.\n",
    "\n",
    "  Returns:\n",
    "    The Euclidean distance between the two objects.\n",
    "  \"\"\"\n",
    "\n",
    "  # Check if the objects have the same number of attributes\n",
    "  if len(x) != len(y):\n",
    "    raise ValueError(\"Objects must have the same number of attributes.\")\n",
    "\n",
    "  # Calculate the sum of squared differences for each attribute\n",
    "  sum_of_squared_differences = 0\n",
    "  for i in range(len(x)):\n",
    "    sum_of_squared_differences += (x[i] - y[i])**2\n",
    "\n",
    "  # Take the square root of the sum of squared differences to get the Euclidean distance\n",
    "  return math.sqrt(sum_of_squared_differences)\n",
    "\n",
    "# Example usage\n",
    "x = [0, 3]\n",
    "y = [7, 6]\n",
    "distance = euclidean_distance(x, y)\n",
    "print(f\"The Euclidean distance between x and y is: {distance}\")\n"
   ]
  }
 ],
 "metadata": {
  "kernelspec": {
   "display_name": "Python 3 (ipykernel)",
   "language": "python",
   "name": "python3"
  },
  "language_info": {
   "codemirror_mode": {
    "name": "ipython",
    "version": 3
   },
   "file_extension": ".py",
   "mimetype": "text/x-python",
   "name": "python",
   "nbconvert_exporter": "python",
   "pygments_lexer": "ipython3",
   "version": "3.11.4"
  }
 },
 "nbformat": 4,
 "nbformat_minor": 5
}
