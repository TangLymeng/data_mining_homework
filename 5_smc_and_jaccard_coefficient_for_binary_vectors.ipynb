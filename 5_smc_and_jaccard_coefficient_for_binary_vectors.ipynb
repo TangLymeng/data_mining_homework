{
 "cells": [
  {
   "cell_type": "markdown",
   "metadata": {},
   "source": [
    "## Simple Matching Coefficient (SMC) for Binary Vectors:"
   ]
  },
  {
   "cell_type": "code",
   "execution_count": 1,
   "metadata": {},
   "outputs": [
    {
     "name": "stdout",
     "output_type": "stream",
     "text": [
      "Simple Matching Coefficient: 0.7\n"
     ]
    }
   ],
   "source": [
    "def simple_matching_coefficient(x, y):\n",
    "    # Ensure both vectors are of the same length\n",
    "    assert len(x) == len(y), \"Vectors must be of the same length\"\n",
    "    \n",
    "    matches = sum(a == b for a, b in zip(x, y))\n",
    "    total_elements = len(x)\n",
    "    \n",
    "    smc = matches / total_elements\n",
    "    return smc\n",
    "\n",
    "# Example usage:\n",
    "x_binary = [1, 0, 0, 0, 0, 0, 0, 0, 0, 0]\n",
    "y_binary = [0, 0, 0, 0, 0, 0, 1, 0, 0, 1]\n",
    "smc_result = simple_matching_coefficient(x_binary, y_binary)\n",
    "print(\"Simple Matching Coefficient:\", smc_result)"
   ]
  },
  {
   "cell_type": "markdown",
   "metadata": {},
   "source": [
    "## Jaccard Coefficient for Binary Vectors:"
   ]
  },
  {
   "cell_type": "code",
   "execution_count": 2,
   "metadata": {},
   "outputs": [
    {
     "name": "stdout",
     "output_type": "stream",
     "text": [
      "Jaccard Coefficient: 0.0\n"
     ]
    }
   ],
   "source": [
    "def jaccard_coefficient(x, y):\n",
    "    # Ensure both vectors are of the same length\n",
    "    assert len(x) == len(y), \"Vectors must be of the same length\"\n",
    "    \n",
    "    intersection = sum(a and b for a, b in zip(x, y))\n",
    "    union = sum(a or b for a, b in zip(x, y))\n",
    "    \n",
    "    jaccard_coef = intersection / union\n",
    "    return jaccard_coef\n",
    "\n",
    "# Example usage:\n",
    "jc_result = jaccard_coefficient(x_binary, y_binary)\n",
    "print(\"Jaccard Coefficient:\", jc_result)"
   ]
  }
 ],
 "metadata": {
  "kernelspec": {
   "display_name": "base",
   "language": "python",
   "name": "python3"
  },
  "language_info": {
   "codemirror_mode": {
    "name": "ipython",
    "version": 3
   },
   "file_extension": ".py",
   "mimetype": "text/x-python",
   "name": "python",
   "nbconvert_exporter": "python",
   "pygments_lexer": "ipython3",
   "version": "3.11.4"
  }
 },
 "nbformat": 4,
 "nbformat_minor": 2
}
