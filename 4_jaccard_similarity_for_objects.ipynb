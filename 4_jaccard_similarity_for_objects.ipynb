{
 "cells": [
  {
   "cell_type": "markdown",
   "metadata": {},
   "source": [
    "## Jaccard Similarity for Objects:"
   ]
  },
  {
   "cell_type": "code",
   "execution_count": 1,
   "metadata": {},
   "outputs": [
    {
     "name": "stdout",
     "output_type": "stream",
     "text": [
      "Jaccard Similarity: 0.14285714285714285\n"
     ]
    }
   ],
   "source": [
    "def jaccard_similarity(x, y):\n",
    "    # Convert the lists to sets for Jaccard similarity calculation\n",
    "    set_x = set(x)\n",
    "    set_y = set(y)\n",
    "    \n",
    "    # Calculate Jaccard similarity\n",
    "    intersection = len(set_x.intersection(set_y))\n",
    "    union = len(set_x.union(set_y))\n",
    "    \n",
    "    jaccard_similarity = intersection / union\n",
    "    return jaccard_similarity\n",
    "\n",
    "# Example usage:\n",
    "x = [0, 3, 4, 5]\n",
    "y = [7, 6, 3, -1]\n",
    "d = jaccard_similarity(x, y)\n",
    "print(\"Jaccard Similarity:\", d)"
   ]
  }
 ],
 "metadata": {
  "kernelspec": {
   "display_name": "Python 3",
   "language": "python",
   "name": "python3"
  },
  "language_info": {
   "codemirror_mode": {
    "name": "ipython",
    "version": 3
   },
   "file_extension": ".py",
   "mimetype": "text/x-python",
   "name": "python",
   "nbconvert_exporter": "python",
   "pygments_lexer": "ipython3",
   "version": "3.11.4"
  }
 },
 "nbformat": 4,
 "nbformat_minor": 2
}
