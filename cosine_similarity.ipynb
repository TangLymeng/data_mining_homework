{
 "cells": [
  {
   "cell_type": "code",
   "execution_count": 1,
   "id": "69f55027",
   "metadata": {},
   "outputs": [
    {
     "name": "stdout",
     "output_type": "stream",
     "text": [
      "The Cosine similarity between x and y is: 0.36273812505500586\n"
     ]
    }
   ],
   "source": [
    "import math\n",
    "\n",
    "def cosine_similarity(x, y):\n",
    "  \"\"\"\n",
    "  This function calculates the Cosine similarity between two objects.\n",
    "\n",
    "  Args:\n",
    "    x: A list of attributes for the first object.\n",
    "    y: A list of attributes for the second object.\n",
    "\n",
    "  Returns:\n",
    "    The Cosine similarity between the two objects, ranging from -1 to 1.\n",
    "  \"\"\"\n",
    "\n",
    "  # Check if the objects have the same number of attributes\n",
    "  if len(x) != len(y):\n",
    "    raise ValueError(\"Objects must have the same number of attributes.\")\n",
    "\n",
    "  # Calculate the dot product and norms of both objects\n",
    "  dot_product = 0\n",
    "  norm_x = 0\n",
    "  norm_y = 0\n",
    "  for i in range(len(x)):\n",
    "    dot_product += x[i] * y[i]\n",
    "    norm_x += x[i]**2\n",
    "    norm_y += y[i]**2\n",
    "\n",
    "  # Take the square root of norms\n",
    "  norm_x = math.sqrt(norm_x)\n",
    "  norm_y = math.sqrt(norm_y)\n",
    "\n",
    "  # Avoid division by zero error\n",
    "  if norm_x * norm_y == 0:\n",
    "    return 0\n",
    "\n",
    "  # Calculate and return the Cosine similarity\n",
    "  return dot_product / (norm_x * norm_y)\n",
    "\n",
    "# Example usage\n",
    "x = [0, 3, 4, 5]\n",
    "y = [7, 6, 3, -1]\n",
    "similarity = cosine_similarity(x, y)\n",
    "print(f\"The Cosine similarity between x and y is: {similarity}\")\n"
   ]
  },
  {
   "cell_type": "code",
   "execution_count": null,
   "id": "d4e6251c",
   "metadata": {},
   "outputs": [],
   "source": []
  }
 ],
 "metadata": {
  "kernelspec": {
   "display_name": "Python 3 (ipykernel)",
   "language": "python",
   "name": "python3"
  },
  "language_info": {
   "codemirror_mode": {
    "name": "ipython",
    "version": 3
   },
   "file_extension": ".py",
   "mimetype": "text/x-python",
   "name": "python",
   "nbconvert_exporter": "python",
   "pygments_lexer": "ipython3",
   "version": "3.11.4"
  }
 },
 "nbformat": 4,
 "nbformat_minor": 5
}
